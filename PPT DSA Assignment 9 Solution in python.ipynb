{
 "cells": [
  {
   "cell_type": "code",
   "execution_count": 6,
   "id": "99b3a36a",
   "metadata": {},
   "outputs": [
    {
     "name": "stdout",
     "output_type": "stream",
     "text": [
      "[1, 2]\n"
     ]
    }
   ],
   "source": [
    "#1\n",
    "from typing import List\n",
    "\n",
    "def twoSum(numbers: List[int], target: int) -> List[int]:\n",
    "    left = 0\n",
    "    right = len(numbers) - 1\n",
    "    \n",
    "    while left < right:\n",
    "        curr_sum = numbers[left] + numbers[right]\n",
    "        \n",
    "        if curr_sum == target:\n",
    "            return [left + 1, right + 1]\n",
    "        elif curr_sum < target:\n",
    "            left += 1\n",
    "        else:\n",
    "            right -= 1\n",
    "    \n",
    "    return []  # Return an empty list if no solution is found\n",
    "\n",
    "# Example usage\n",
    "numbers = [2, 7, 11, 15]\n",
    "target = 9\n",
    "\n",
    "indices = twoSum(numbers, target)\n",
    "\n",
    "if len(indices) == 2:\n",
    "    print([indices[0], indices[1]])\n",
    "else:\n",
    "    print(\"No solution found.\")\n"
   ]
  },
  {
   "cell_type": "code",
   "execution_count": 7,
   "id": "0f9e69af",
   "metadata": {},
   "outputs": [
    {
     "name": "stdout",
     "output_type": "stream",
     "text": [
      "[3, 4]\n"
     ]
    }
   ],
   "source": [
    "#2 \n",
    "from typing import List\n",
    "\n",
    "def searchRange(nums: List[int], target: int) -> List[int]:\n",
    "    def findLeft(nums, target):\n",
    "        left, right = 0, len(nums) - 1\n",
    "        index = -1\n",
    "        \n",
    "        while left <= right:\n",
    "            mid = left + (right - left) // 2\n",
    "            \n",
    "            if nums[mid] >= target:\n",
    "                right = mid - 1\n",
    "            else:\n",
    "                left = mid + 1\n",
    "            \n",
    "            if nums[mid] == target:\n",
    "                index = mid\n",
    "        \n",
    "        return index\n",
    "    \n",
    "    def findRight(nums, target):\n",
    "        left, right = 0, len(nums) - 1\n",
    "        index = -1\n",
    "        \n",
    "        while left <= right:\n",
    "            mid = left + (right - left) // 2\n",
    "            \n",
    "            if nums[mid] <= target:\n",
    "                left = mid + 1\n",
    "            else:\n",
    "                right = mid - 1\n",
    "            \n",
    "            if nums[mid] == target:\n",
    "                index = mid\n",
    "        \n",
    "        return index\n",
    "    \n",
    "    left_index = findLeft(nums, target)\n",
    "    \n",
    "    if left_index == -1:\n",
    "        return [-1, -1]\n",
    "    \n",
    "    right_index = findRight(nums, target)\n",
    "    \n",
    "    return [left_index, right_index]\n",
    "\n",
    "# Example usage\n",
    "nums = [5, 7, 7, 8, 8, 10]\n",
    "target = 8\n",
    "\n",
    "result = searchRange(nums, target)\n",
    "\n",
    "print(result)\n"
   ]
  },
  {
   "cell_type": "code",
   "execution_count": 8,
   "id": "8b37d253",
   "metadata": {},
   "outputs": [
    {
     "name": "stdout",
     "output_type": "stream",
     "text": [
      "2\n"
     ]
    }
   ],
   "source": [
    "#3\n",
    "from typing import List\n",
    "\n",
    "def findPeakElement(nums: List[int]) -> int:\n",
    "    left, right = 0, len(nums) - 1\n",
    "    \n",
    "    while left < right:\n",
    "        mid = left + (right - left) // 2\n",
    "        \n",
    "        if nums[mid] < nums[mid + 1]:\n",
    "            left = mid + 1\n",
    "        else:\n",
    "            right = mid\n",
    "    \n",
    "    return left\n",
    "\n",
    "# Example usage\n",
    "nums = [1, 2, 3, 1]\n",
    "result = findPeakElement(nums)\n",
    "print(result)\n"
   ]
  },
  {
   "cell_type": "code",
   "execution_count": 9,
   "id": "d3c451b7",
   "metadata": {},
   "outputs": [
    {
     "name": "stdout",
     "output_type": "stream",
     "text": [
      "2\n"
     ]
    }
   ],
   "source": [
    "#4\n",
    "from typing import List\n",
    "\n",
    "def searchInsert(nums: List[int], target: int) -> int:\n",
    "    left, right = 0, len(nums) - 1\n",
    "    \n",
    "    while left <= right:\n",
    "        mid = left + (right - left) // 2\n",
    "        \n",
    "        if nums[mid] == target:\n",
    "            return mid\n",
    "        elif nums[mid] < target:\n",
    "            left = mid + 1\n",
    "        else:\n",
    "            right = mid - 1\n",
    "    \n",
    "    return left\n",
    "\n",
    "# Example usage\n",
    "nums = [1, 3, 5, 6]\n",
    "target = 5\n",
    "result = searchInsert(nums, target)\n",
    "print(result)\n"
   ]
  },
  {
   "cell_type": "code",
   "execution_count": 10,
   "id": "b3aa30dc",
   "metadata": {},
   "outputs": [
    {
     "name": "stdout",
     "output_type": "stream",
     "text": [
      "4\n"
     ]
    }
   ],
   "source": [
    "#5\n",
    "def majorityElement(nums):\n",
    "    count = 0\n",
    "    candidate = None\n",
    "\n",
    "    for num in nums:\n",
    "        if count == 0:\n",
    "            candidate = num\n",
    "            count = 1\n",
    "        elif candidate == num:\n",
    "            count += 1\n",
    "        else:\n",
    "            count -= 1\n",
    "    \n",
    "    return candidate\n",
    "\n",
    "# Example usage\n",
    "nums = [3, 3, 4, 2, 4, 4, 2, 4, 4]\n",
    "result = majorityElement(nums)\n",
    "print(result)\n"
   ]
  },
  {
   "cell_type": "code",
   "execution_count": 21,
   "id": "13673e95",
   "metadata": {},
   "outputs": [
    {
     "name": "stdout",
     "output_type": "stream",
     "text": [
      "5\n"
     ]
    }
   ],
   "source": [
    "#6\n",
    "def firstBadVersion(n, bad):\n",
    "    left, right = 1, n\n",
    "    \n",
    "    while left < right:\n",
    "        mid = left + (right - left) // 2\n",
    "        \n",
    "        if isBadVersion(mid):\n",
    "            right = mid\n",
    "        else:\n",
    "            left = mid + 1\n",
    "    \n",
    "    return left\n",
    "\n",
    "# Example usage\n",
    "n = 5\n",
    "bad = 4\n",
    "result = firstBadVersion(n, bad)\n",
    "print(result)\n",
    "\n"
   ]
  },
  {
   "cell_type": "code",
   "execution_count": 15,
   "id": "b08e9c33",
   "metadata": {},
   "outputs": [
    {
     "name": "stdout",
     "output_type": "stream",
     "text": [
      "3\n"
     ]
    }
   ],
   "source": [
    "#7\n",
    "def mergeSort(arr):\n",
    "    if len(arr) <= 1:\n",
    "        return arr, 0\n",
    "\n",
    "    mid = len(arr) // 2\n",
    "    left, inv_count_left = mergeSort(arr[:mid])\n",
    "    right, inv_count_right = mergeSort(arr[mid:])\n",
    "    merged, inv_count_merge = merge(left, right)\n",
    "\n",
    "    inv_count = inv_count_left + inv_count_right + inv_count_merge\n",
    "    return merged, inv_count\n",
    "\n",
    "\n",
    "def merge(left, right):\n",
    "    merged = []\n",
    "    inv_count = 0\n",
    "    i = j = 0\n",
    "\n",
    "    while i < len(left) and j < len(right):\n",
    "        if left[i] <= right[j]:\n",
    "            merged.append(left[i])\n",
    "            i += 1\n",
    "        else:\n",
    "            merged.append(right[j])\n",
    "            inv_count += len(left) - i\n",
    "            j += 1\n",
    "\n",
    "    merged.extend(left[i:])\n",
    "    merged.extend(right[j:])\n",
    "    return merged, inv_count\n",
    "\n",
    "\n",
    "# Example usage\n",
    "arr = [2, 4, 1, 3, 5]\n",
    "sorted_arr, inversions = mergeSort(arr)\n",
    "print(inversions)\n"
   ]
  },
  {
   "cell_type": "code",
   "execution_count": 16,
   "id": "72bfd7de",
   "metadata": {},
   "outputs": [
    {
     "name": "stdout",
     "output_type": "stream",
     "text": [
      "20 80\n"
     ]
    }
   ],
   "source": [
    "#8\n",
    "def findCommonElements(ar1, ar2, ar3):\n",
    "    n1, n2, n3 = len(ar1), len(ar2), len(ar3)\n",
    "    i = j = k = 0\n",
    "    common_elements = []\n",
    "\n",
    "    while i < n1 and j < n2 and k < n3:\n",
    "        if ar1[i] == ar2[j] == ar3[k]:\n",
    "            common_elements.append(ar1[i])\n",
    "            i += 1\n",
    "            j += 1\n",
    "            k += 1\n",
    "        elif ar1[i] < ar2[j]:\n",
    "            i += 1\n",
    "        elif ar2[j] < ar3[k]:\n",
    "            j += 1\n",
    "        else:\n",
    "            k += 1\n",
    "\n",
    "    return common_elements\n",
    "\n",
    "# Example usage\n",
    "ar1 = [1, 5, 10, 20, 40, 80]\n",
    "ar2 = [6, 7, 20, 80, 100]\n",
    "ar3 = [3, 4, 15, 20, 30, 70, 80, 120]\n",
    "\n",
    "result = findCommonElements(ar1, ar2, ar3)\n",
    "print(*result)\n"
   ]
  },
  {
   "cell_type": "code",
   "execution_count": null,
   "id": "cdf79aa7",
   "metadata": {},
   "outputs": [],
   "source": []
  }
 ],
 "metadata": {
  "kernelspec": {
   "display_name": "Python 3 (ipykernel)",
   "language": "python",
   "name": "python3"
  },
  "language_info": {
   "codemirror_mode": {
    "name": "ipython",
    "version": 3
   },
   "file_extension": ".py",
   "mimetype": "text/x-python",
   "name": "python",
   "nbconvert_exporter": "python",
   "pygments_lexer": "ipython3",
   "version": "3.10.5"
  }
 },
 "nbformat": 4,
 "nbformat_minor": 5
}
